{
 "cells": [
  {
   "cell_type": "code",
   "execution_count": 1,
   "metadata": {},
   "outputs": [],
   "source": [
    "import numpy as np\n",
    "import tensorflow as tf\n",
    "from tensorflow.keras.applications.vgg19 import VGG19, preprocess_input\n",
    "from tensorflow.keras.models import Model\n",
    "from tensorflow.keras.preprocessing import image\n",
    "from sklearn.metrics.pairwise import cosine_similarity\n",
    "import os\n",
    "import cv2\n",
    "import matplotlib.pyplot as plt\n",
    "import matplotlib.image as mpimg\n",
    "from sklearn.neighbors import NearestNeighbors\n",
    "from sklearn.metrics.pairwise import euclidean_distances, manhattan_distances\n",
    "from scipy.spatial.distance import correlation"
   ]
  },
  {
   "cell_type": "code",
   "execution_count": 2,
   "metadata": {},
   "outputs": [],
   "source": [
    "# Load the pre-trained VGG19 model + higher level layers\n",
    "base_model = VGG19(weights='imagenet')\n",
    "model = Model(inputs=base_model.input, outputs=base_model.get_layer('fc1').output)\n"
   ]
  },
  {
   "cell_type": "code",
   "execution_count": 3,
   "metadata": {},
   "outputs": [],
   "source": [
    "def load_yolo_model():\n",
    "    net = cv2.dnn.readNet(\"yolov3.weights\", \"yolov3.cfg\")\n",
    "    with open(\"coco.names\", \"r\") as f:\n",
    "        classes = [line.strip() for line in f.readlines()]\n",
    "    return net, classes"
   ]
  },
  {
   "cell_type": "code",
   "execution_count": 4,
   "metadata": {},
   "outputs": [],
   "source": [
    "def detect_objects_yolo(img, net, classes):\n",
    "    layer_names = net.getLayerNames()\n",
    "    output_layers = [layer_names[i - 1] for i in net.getUnconnectedOutLayers()]\n",
    "\n",
    "    height, width, channels = img.shape\n",
    "    blob = cv2.dnn.blobFromImage(img, 0.00392, (416, 416), (0, 0, 0), True, crop=False)\n",
    "    net.setInput(blob)\n",
    "    outs = net.forward(output_layers)\n",
    "\n",
    "    class_ids = []\n",
    "    confidences = []\n",
    "    boxes = []\n",
    "    for out in outs:\n",
    "        for detection in out:\n",
    "            scores = detection[5:]\n",
    "            class_id = np.argmax(scores)\n",
    "            confidence = scores[class_id]\n",
    "            if confidence > 0.5:\n",
    "                center_x = int(detection[0] * width)\n",
    "                center_y = int(detection[1] * height)\n",
    "                w = int(detection[2] * width)\n",
    "                h = int(detection[3] * height)\n",
    "                x = int(center_x - w / 2)\n",
    "                y = int(center_y - h / 2)\n",
    "                boxes.append([x, y, w, h])\n",
    "                confidences.append(float(confidence))\n",
    "                class_ids.append(class_id)\n",
    "    \n",
    "    indexes = cv2.dnn.NMSBoxes(boxes, confidences, 0.5, 0.4)\n",
    "    return [(class_ids[i], boxes[i]) for i in range(len(boxes)) if i in indexes]\n"
   ]
  },
  {
   "cell_type": "code",
   "execution_count": 5,
   "metadata": {},
   "outputs": [],
   "source": [
    "def extract_face(img_path):\n",
    "    img = cv2.imread(img_path)\n",
    "    gray = cv2.cvtColor(img, cv2.COLOR_BGR2GRAY)\n",
    "    face_cascade = cv2.CascadeClassifier(cv2.data.haarcascades + 'haarcascade_frontalface_default.xml')\n",
    "    faces = face_cascade.detectMultiScale(gray, scaleFactor=1.1, minNeighbors=5, minSize=(30, 30), flags=cv2.CASCADE_SCALE_IMAGE)\n",
    "    \n",
    "    if len(faces) == 0:\n",
    "        return None\n",
    "    \n",
    "    x, y, w, h = max(faces, key=lambda rect: rect[2] * rect[3])\n",
    "    face = img[y:y+h, x:x+w]\n",
    "    return face"
   ]
  },
  {
   "cell_type": "code",
   "execution_count": 6,
   "metadata": {},
   "outputs": [],
   "source": [
    "def extract_features(img_path, model, net, classes):\n",
    "    face = extract_face(img_path)\n",
    "    img = cv2.imread(img_path)\n",
    "    if face is None:\n",
    "        print(f\"No face detected in image: {img_path}\")\n",
    "        face_features = np.zeros((4096,))\n",
    "    else:\n",
    "        face = cv2.resize(face, (224, 224))\n",
    "        img_data = image.img_to_array(face)\n",
    "        img_data = np.expand_dims(img_data, axis=0)\n",
    "        img_data = preprocess_input(img_data)\n",
    "        face_features = model.predict(img_data).flatten()\n",
    "    \n",
    "    objects = detect_objects_yolo(img, net, classes)\n",
    "    object_features = []\n",
    "    for class_id, (x, y, w, h) in objects:\n",
    "        obj = img[y:y+h, x:x+w]\n",
    "        if obj.size == 0:\n",
    "            continue\n",
    "        obj = cv2.resize(obj, (224, 224))\n",
    "        obj_data = image.img_to_array(obj)\n",
    "        obj_data = np.expand_dims(obj_data, axis=0)\n",
    "        obj_data = preprocess_input(obj_data)\n",
    "        obj_features = model.predict(obj_data).flatten()\n",
    "        object_features.append(obj_features)\n",
    "    \n",
    "    if len(object_features) == 0:\n",
    "        object_features = np.zeros((4096,))\n",
    "    else:\n",
    "        object_features = np.mean(object_features, axis=0)\n",
    "    \n",
    "    combined_features = np.concatenate([face_features, object_features])\n",
    "    return combined_features"
   ]
  },
  {
   "cell_type": "code",
   "execution_count": 7,
   "metadata": {},
   "outputs": [],
   "source": [
    "def load_dataset(dataset_path, model, net, classes):\n",
    "    features = []\n",
    "    image_paths = []\n",
    "    labels = []\n",
    "    for actor in os.listdir(dataset_path):\n",
    "        actor_dir = os.path.join(dataset_path, actor)\n",
    "        if os.path.isdir(actor_dir):\n",
    "            for img_file in os.listdir(actor_dir):\n",
    "                img_path = os.path.join(actor_dir, img_file)\n",
    "                if img_path.endswith(('jpg', 'jpeg', 'png')):  # Check for valid image files\n",
    "                    embedding = extract_features(img_path, model, net, classes)\n",
    "                    if embedding is not None:\n",
    "                        features.append(embedding)\n",
    "                        labels.append(actor)\n",
    "                        image_paths.append(img_path)\n",
    "    return np.array(features), image_paths, labels"
   ]
  },
  {
   "cell_type": "code",
   "execution_count": 9,
   "metadata": {},
   "outputs": [
    {
     "ename": "error",
     "evalue": "OpenCV(4.9.0) D:\\a\\opencv-python\\opencv-python\\opencv\\modules\\dnn\\src\\darknet\\darknet_importer.cpp:217: error: (-212:Parsing error) Failed to parse NetParameter file: yolov3.weights in function 'cv::dnn::dnn4_v20231225::readNetFromDarknet'\n",
     "output_type": "error",
     "traceback": [
      "\u001b[1;31m---------------------------------------------------------------------------\u001b[0m",
      "\u001b[1;31merror\u001b[0m                                     Traceback (most recent call last)",
      "Cell \u001b[1;32mIn[9], line 2\u001b[0m\n\u001b[0;32m      1\u001b[0m \u001b[38;5;66;03m# Load the YOLO model and classes\u001b[39;00m\n\u001b[1;32m----> 2\u001b[0m net, classes \u001b[38;5;241m=\u001b[39m \u001b[43mload_yolo_model\u001b[49m\u001b[43m(\u001b[49m\u001b[43m)\u001b[49m\n",
      "Cell \u001b[1;32mIn[3], line 2\u001b[0m, in \u001b[0;36mload_yolo_model\u001b[1;34m()\u001b[0m\n\u001b[0;32m      1\u001b[0m \u001b[38;5;28;01mdef\u001b[39;00m \u001b[38;5;21mload_yolo_model\u001b[39m():\n\u001b[1;32m----> 2\u001b[0m     net \u001b[38;5;241m=\u001b[39m \u001b[43mcv2\u001b[49m\u001b[38;5;241;43m.\u001b[39;49m\u001b[43mdnn\u001b[49m\u001b[38;5;241;43m.\u001b[39;49m\u001b[43mreadNet\u001b[49m\u001b[43m(\u001b[49m\u001b[38;5;124;43m\"\u001b[39;49m\u001b[38;5;124;43myolov3.weights\u001b[39;49m\u001b[38;5;124;43m\"\u001b[39;49m\u001b[43m,\u001b[49m\u001b[43m \u001b[49m\u001b[38;5;124;43m\"\u001b[39;49m\u001b[38;5;124;43myolov3.cfg\u001b[39;49m\u001b[38;5;124;43m\"\u001b[39;49m\u001b[43m)\u001b[49m\n\u001b[0;32m      3\u001b[0m     \u001b[38;5;28;01mwith\u001b[39;00m \u001b[38;5;28mopen\u001b[39m(\u001b[38;5;124m\"\u001b[39m\u001b[38;5;124mcoco.names\u001b[39m\u001b[38;5;124m\"\u001b[39m, \u001b[38;5;124m\"\u001b[39m\u001b[38;5;124mr\u001b[39m\u001b[38;5;124m\"\u001b[39m) \u001b[38;5;28;01mas\u001b[39;00m f:\n\u001b[0;32m      4\u001b[0m         classes \u001b[38;5;241m=\u001b[39m [line\u001b[38;5;241m.\u001b[39mstrip() \u001b[38;5;28;01mfor\u001b[39;00m line \u001b[38;5;129;01min\u001b[39;00m f\u001b[38;5;241m.\u001b[39mreadlines()]\n",
      "\u001b[1;31merror\u001b[0m: OpenCV(4.9.0) D:\\a\\opencv-python\\opencv-python\\opencv\\modules\\dnn\\src\\darknet\\darknet_importer.cpp:217: error: (-212:Parsing error) Failed to parse NetParameter file: yolov3.weights in function 'cv::dnn::dnn4_v20231225::readNetFromDarknet'\n"
     ]
    }
   ],
   "source": [
    "# Load the YOLO model and classes\n",
    "net, classes = load_yolo_model()"
   ]
  },
  {
   "cell_type": "code",
   "execution_count": null,
   "metadata": {},
   "outputs": [],
   "source": [
    "dataset_path = \"D:\\\\Programming\\\\Project\\\\dataset_5\"\n",
    "# Load dataset and extract features\n",
    "dataset_features, dataset_image_paths, labels = load_dataset_2(dataset_path, model)\n"
   ]
  },
  {
   "cell_type": "code",
   "execution_count": null,
   "metadata": {},
   "outputs": [],
   "source": [
    "given_img_path = 'D:\\\\Programming\\\\Project\\\\pexels-photo-2379005.jpeg'\n",
    "input_img = image.load_img(given_img_path, target_size=(224, 224))\n",
    "input_img = image.img_to_array(input_img) / 255.0\n",
    "plt.imshow(input_img)"
   ]
  },
  {
   "cell_type": "code",
   "execution_count": null,
   "metadata": {},
   "outputs": [],
   "source": [
    "# Cosine similarity (METHOD 1)\n",
    "def find_similar_images_cosine(given_img_path, dataset_features, dataset_image_paths, model, top_n=5):\n",
    "    given_img_features = extract_features(given_img_path, model)\n",
    "    if given_img_features is None:\n",
    "        return [], []\n",
    "    \n",
    "    similarities = cosine_similarity([given_img_features], dataset_features)[0]\n",
    "    similar_indices = similarities.argsort()[-top_n:][::-1]\n",
    "    top_similarities = similarities[similar_indices]\n",
    "    top_similar_images = [dataset_image_paths[i] for i in similar_indices]\n",
    "    \n",
    "    return top_similar_images, top_similarities\n",
    "\n",
    "top_5_similar_images, top_5_similarities = find_similar_images_cosine(given_img_path, dataset_features, dataset_image_paths, model, top_n=5)\n",
    "\n",
    "print(\"Top 5 similar images:\")\n",
    "for img_path, similarity in zip(top_5_similar_images, top_5_similarities):\n",
    "    print(f\"{img_path} - Similarity: {similarity * 100:.2f}%\")\n"
   ]
  },
  {
   "cell_type": "code",
   "execution_count": null,
   "metadata": {},
   "outputs": [],
   "source": [
    "plt.figure(figsize=(10, 5))\n",
    "idx = 0\n",
    "for actor_image_path, similarity in zip(top_5_similar_images, top_5_similarities):\n",
    "    print(f\"Displaying image: {actor_image_path}\")\n",
    "    img = mpimg.imread(actor_image_path)\n",
    "    plt.subplot(1, 5, idx + 1)\n",
    "    plt.imshow(img)\n",
    "    plt.title(f\"Similarity: {similarity * 100:.2f}%\")\n",
    "    plt.axis('off')\n",
    "    idx += 1\n",
    "plt.show()"
   ]
  }
 ],
 "metadata": {
  "kernelspec": {
   "display_name": "Python 3",
   "language": "python",
   "name": "python3"
  },
  "language_info": {
   "codemirror_mode": {
    "name": "ipython",
    "version": 3
   },
   "file_extension": ".py",
   "mimetype": "text/x-python",
   "name": "python",
   "nbconvert_exporter": "python",
   "pygments_lexer": "ipython3",
   "version": "3.12.4"
  }
 },
 "nbformat": 4,
 "nbformat_minor": 2
}
